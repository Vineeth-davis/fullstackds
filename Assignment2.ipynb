{
 "cells": [
  {
   "cell_type": "markdown",
   "id": "3b8b7cfc",
   "metadata": {},
   "source": [
    "# Assignment 2 "
   ]
  },
  {
   "cell_type": "markdown",
   "id": "c5245097",
   "metadata": {},
   "source": [
    "1.What are the two values of the boolean data types? how do you write them ?\n",
    "\n",
    "ans- True and False."
   ]
  },
  {
   "cell_type": "code",
   "execution_count": 2,
   "id": "e44f1fa8",
   "metadata": {},
   "outputs": [
    {
     "name": "stdout",
     "output_type": "stream",
     "text": [
      "True\n",
      "False\n"
     ]
    }
   ],
   "source": [
    "var1 = True\n",
    "var2 = False\n",
    "print(var1)\n",
    "print(var2)"
   ]
  },
  {
   "cell_type": "markdown",
   "id": "21ded92c",
   "metadata": {},
   "source": [
    "2. What are the three different types of Boolean operators?\n",
    "\n",
    "ans- or,and,not -- are the three boolean operators"
   ]
  },
  {
   "cell_type": "raw",
   "id": "fc178672",
   "metadata": {},
   "source": [
    "3. Make a list of each Boolean operator's truth tables (i.e. every possible combination of Boolean values for the operator and what it evaluate) ?\n",
    "\n",
    "ans- and-\n",
    "     True and True is True\n",
    "     True and False is False\n",
    "     False and True is False\n",
    "     False and False is False\n",
    "     \n",
    "     or-\n",
    "     True or True is True\n",
    "     True or False is True\n",
    "     False or True is True\n",
    "     False or False is False\n",
    "     \n",
    "     not-\n",
    "     not True is False.\n",
    "     not False is True.\n",
    "     \n",
    "\n",
    "True = 1 \n",
    "False = 0\n",
    "\n",
    "Truth Table for AND\n",
    "A B output\n",
    "0 0 0\n",
    "0 1 0\n",
    "1 0 0\n",
    "1 1 1\n",
    "\n",
    "Truth Table for OR\n",
    "A B output\n",
    "0 0 0\n",
    "0 1 1\n",
    "1 0 1\n",
    "1 1 1\n",
    "\n",
    "Truth Table for NOT\n",
    "A output\n",
    "0 1\n",
    "1 0"
   ]
  },
  {
   "cell_type": "markdown",
   "id": "f1db82f9",
   "metadata": {},
   "source": [
    "4. What are the values of the following expressions?"
   ]
  },
  {
   "cell_type": "code",
   "execution_count": 4,
   "id": "7a4161a8",
   "metadata": {},
   "outputs": [
    {
     "name": "stdout",
     "output_type": "stream",
     "text": [
      "False\n",
      "False\n",
      "True\n",
      "False\n",
      "False\n",
      "True\n"
     ]
    }
   ],
   "source": [
    "print((5>4) and (3 == 5))\n",
    "print(not (5 > 4))\n",
    "print((5 > 4) or (3 == 5))\n",
    "print(not ((5 > 4) or (3 == 5)))\n",
    "print((True and True) and (True == False))\n",
    "print((not False) or (not True))"
   ]
  },
  {
   "cell_type": "markdown",
   "id": "f0b02d7a",
   "metadata": {},
   "source": [
    "5. What are the six comparison operators?\n",
    "\n",
    "ans- \n",
    "     == , != , < , > , <= , =>"
   ]
  },
  {
   "cell_type": "markdown",
   "id": "32886a5b",
   "metadata": {},
   "source": [
    "6. How do you tell the difference between the equal to and assignment operators?Describe a condition and when you would use one.\n",
    "\n",
    "ans-\n",
    "     == -compares two values and returns True or False\n",
    "     = -is that assignment operator that stores a value in a variable."
   ]
  },
  {
   "cell_type": "code",
   "execution_count": 7,
   "id": "3f60bc06",
   "metadata": {},
   "outputs": [
    {
     "name": "stdout",
     "output_type": "stream",
     "text": [
      "False\n",
      "10 True\n"
     ]
    }
   ],
   "source": [
    "a = 5\n",
    "b = 10\n",
    "c = b\n",
    "print(a==b) \n",
    "print(c, c==b)"
   ]
  },
  {
   "cell_type": "markdown",
   "id": "4f7813f2",
   "metadata": {},
   "source": [
    "7. Identify the three blocks in this code:"
   ]
  },
  {
   "cell_type": "code",
   "execution_count": 8,
   "id": "172acdcd",
   "metadata": {},
   "outputs": [
    {
     "name": "stdout",
     "output_type": "stream",
     "text": [
      "ham\n",
      "spam\n",
      "spam\n"
     ]
    }
   ],
   "source": [
    "spam = 0\n",
    "if spam == 10:\n",
    "    print('eggs') #Block 1\n",
    "if spam > 5:\n",
    "    print('bacon') #Block 2\n",
    "else:\n",
    "    print('ham') #Block 3\n",
    "    print('spam')\n",
    "    print('spam')"
   ]
  },
  {
   "cell_type": "markdown",
   "id": "6ee34771",
   "metadata": {},
   "source": [
    "8. Write code that prints Hello if 1 is stored in spam, prints Howdy if 2 is stored in spam, and prints Greetings! if anything else is stored in spam."
   ]
  },
  {
   "cell_type": "code",
   "execution_count": 9,
   "id": "45e3c6f0",
   "metadata": {},
   "outputs": [
    {
     "name": "stdout",
     "output_type": "stream",
     "text": [
      "Hello\n",
      "Howdy\n",
      "Greetings\n"
     ]
    }
   ],
   "source": [
    "def spam(spam):\n",
    "    if spam==1:\n",
    "        print('Hello')\n",
    "    elif spam==2:\n",
    "        print('Howdy')\n",
    "    else:\n",
    "        print('Greetings')\n",
    "        \n",
    "spam(1) \n",
    "spam(2)\n",
    "spam(3)"
   ]
  },
  {
   "cell_type": "markdown",
   "id": "cadeb456",
   "metadata": {},
   "source": [
    "9.If your programme is stuck in an endless loop, what keys you’ll press?\n",
    "\n",
    "ans- press CTRL+C"
   ]
  },
  {
   "cell_type": "markdown",
   "id": "c82eb488",
   "metadata": {},
   "source": [
    "10. How can you tell the difference between break and continue?\n",
    "\n",
    "ans- \n",
    "   break - break statement will move the execution outside the loop if break    condtion is satisfied\n",
    "    \n",
    "   continue- statement will move the execution to the start of the loop"
   ]
  },
  {
   "cell_type": "code",
   "execution_count": 13,
   "id": "341e705a",
   "metadata": {},
   "outputs": [
    {
     "name": "stdout",
     "output_type": "stream",
     "text": [
      "0\n",
      "1\n",
      "2\n",
      "3\n"
     ]
    }
   ],
   "source": [
    "i=0\n",
    "for i in range(0,5):\n",
    "    if i == 4:\n",
    "        break\n",
    "    print(i)"
   ]
  },
  {
   "cell_type": "code",
   "execution_count": 18,
   "id": "3f06e81c",
   "metadata": {},
   "outputs": [
    {
     "name": "stdout",
     "output_type": "stream",
     "text": [
      "1\n",
      "3\n",
      "4\n"
     ]
    }
   ],
   "source": [
    "x = 2\n",
    "for i in range(1,5):\n",
    "    if i == x:\n",
    "        continue\n",
    "    print(i)"
   ]
  },
  {
   "cell_type": "markdown",
   "id": "8084fbff",
   "metadata": {},
   "source": [
    "11. In a for loop, what is the difference between range(10), range(0, 10), and range(0, 10, 1)?\n",
    "\n",
    "ans- \n",
    "   The range(10) call range from 0 to 9 (but not include 10)\n",
    "   \n",
    "   The range (0,10) explicitly tells the loop to start at 0\n",
    "   \n",
    "   The range(0,10,1) explicitly tells the loop to increase the variable by 1    on each iteration"
   ]
  },
  {
   "cell_type": "markdown",
   "id": "a9787f36",
   "metadata": {},
   "source": [
    "12. Write a short program that prints the numbers 1 to 10 using a for loop. Then write an equivalent program that prints the numbers 1 to 10 using a while loop."
   ]
  },
  {
   "cell_type": "code",
   "execution_count": 29,
   "id": "1582fbdb",
   "metadata": {},
   "outputs": [
    {
     "name": "stdout",
     "output_type": "stream",
     "text": [
      "for loop\n",
      "0 1 2 3 4 5 6 7 8 9 10 \n",
      "\n",
      "while loop\n",
      "0 1 2 3 4 5 6 7 8 9 10 "
     ]
    }
   ],
   "source": [
    "def forloop():\n",
    "    print(\"for loop\")\n",
    "    for i in range(11):\n",
    "        print(i, end=\" \")\n",
    "        \n",
    "def whileloop():\n",
    "    print(\"while loop\")\n",
    "    i=0\n",
    "    while i<=10:\n",
    "        print(i, end=\" \")\n",
    "        i+=1\n",
    "        \n",
    "        \n",
    "forloop()\n",
    "print(\"\\n\")\n",
    "whileloop()"
   ]
  },
  {
   "cell_type": "markdown",
   "id": "9c85df30",
   "metadata": {},
   "source": [
    "13. If you had a function named bacon() inside a module named spam, how would you call it after importing spam?\n",
    "\n",
    "ans- spam.bacon()"
   ]
  }
 ],
 "metadata": {
  "kernelspec": {
   "display_name": "Python 3 (ipykernel)",
   "language": "python",
   "name": "python3"
  },
  "language_info": {
   "codemirror_mode": {
    "name": "ipython",
    "version": 3
   },
   "file_extension": ".py",
   "mimetype": "text/x-python",
   "name": "python",
   "nbconvert_exporter": "python",
   "pygments_lexer": "ipython3",
   "version": "3.9.12"
  }
 },
 "nbformat": 4,
 "nbformat_minor": 5
}
