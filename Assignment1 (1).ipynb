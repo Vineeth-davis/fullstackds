{
 "cells": [
  {
   "cell_type": "markdown",
   "id": "140dd83e",
   "metadata": {},
   "source": [
    "#  Assignment 1"
   ]
  },
  {
   "cell_type": "markdown",
   "id": "dd61e55d",
   "metadata": {},
   "source": [
    "1. In the below elements which of them are values or an expression? eg:- values can be integer or string and expressions will be mathematical operators.\n",
    "* \n",
    "'hello' -> values \n",
    "-87.8 -> values \n",
    "-  -> expressions \n",
    "/  -> expressions \n",
    "-> expressions \n",
    "6 -> values "
   ]
  },
  {
   "cell_type": "markdown",
   "id": "dcf10c83",
   "metadata": {},
   "source": [
    "2. What is the difference between string and variable?\n",
    "\n",
    "ans- A string is a value representing text, a variable is a name that can refer to any value.\n"
   ]
  },
  {
   "cell_type": "markdown",
   "id": "654d9461",
   "metadata": {},
   "source": [
    "3. Describe three different data types.\n",
    "\n",
    "ans- List, integer, and float"
   ]
  },
  {
   "cell_type": "markdown",
   "id": "c921bb8c",
   "metadata": {},
   "source": [
    "4. What is an expression made up of? What do all expressions do?\n",
    "\n",
    "ans- An expression is a combination of operators and operands that is interpreted to produce some other value. "
   ]
  },
  {
   "cell_type": "markdown",
   "id": "061f4d51",
   "metadata": {},
   "source": [
    "5. This assignment statements, like spam = 10. What is the difference between an expression and a statement?\n",
    "\n",
    "Expression is made up of values, containers, and mathematical operators (operands) and the statement is just like a command that a python interpreter executes like print.\n"
   ]
  },
  {
   "cell_type": "markdown",
   "id": "533e1ac6",
   "metadata": {},
   "source": [
    "6. After running the following code, what does the variable bacon contain?\n",
    "\n",
    "ans- bacon = 22\n",
    "     bacon + 1\n",
    "     23\n"
   ]
  },
  {
   "cell_type": "markdown",
   "id": "3d92058e",
   "metadata": {},
   "source": [
    "7. What should the values of the following two terms be?\n",
    "\n",
    "'spam' + 'spamspam' – spamspamspam\n",
    "'spam' * 3 – spamspamspam\n"
   ]
  },
  {
   "cell_type": "markdown",
   "id": "48abbfe5",
   "metadata": {},
   "source": [
    "8. Why is eggs a valid variable name while 100 is invalid? \n",
    "\n",
    "ans – variables should always start with alphabets or underscores not integers"
   ]
  },
  {
   "cell_type": "markdown",
   "id": "ddf988e4",
   "metadata": {},
   "source": [
    "9. What three functions can be used to get the integer, floating-point number, or string version of a value?  \n",
    "\n",
    "int(),\n",
    "float(),\n",
    "str(),\n"
   ]
  },
  {
   "cell_type": "markdown",
   "id": "80cb785f",
   "metadata": {},
   "source": [
    "10. Why does this expression cause an error? How can you fix it?\n",
    "\n",
    "'I have eaten ' + 99 + ' burritos.'\n",
    "'I have eaten ' + str(99) + ' burritos.'\n"
   ]
  }
 ],
 "metadata": {
  "kernelspec": {
   "display_name": "Python 3 (ipykernel)",
   "language": "python",
   "name": "python3"
  },
  "language_info": {
   "codemirror_mode": {
    "name": "ipython",
    "version": 3
   },
   "file_extension": ".py",
   "mimetype": "text/x-python",
   "name": "python",
   "nbconvert_exporter": "python",
   "pygments_lexer": "ipython3",
   "version": "3.9.12"
  }
 },
 "nbformat": 4,
 "nbformat_minor": 5
}
