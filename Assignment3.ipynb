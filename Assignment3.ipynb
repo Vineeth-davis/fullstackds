{
 "cells": [
  {
   "cell_type": "markdown",
   "id": "066b2262",
   "metadata": {},
   "source": [
    "# Assignment 3"
   ]
  },
  {
   "cell_type": "markdown",
   "id": "c233f812",
   "metadata": {},
   "source": [
    "1. Why are functions advantageous to have in your programs?\n",
    "\n",
    "ans- reduces duplicity of code. reusability"
   ]
  },
  {
   "cell_type": "markdown",
   "id": "1269cb1b",
   "metadata": {},
   "source": [
    "2. When does the code in a function run: when it's specified or when it's called?\n",
    "\n",
    "ans- The code in a function executes when the function is called, not when the      function is specified."
   ]
  },
  {
   "cell_type": "markdown",
   "id": "83867ab4",
   "metadata": {},
   "source": [
    "3. What statement creates a function?\n",
    "\n",
    "ans- def"
   ]
  },
  {
   "cell_type": "code",
   "execution_count": 1,
   "id": "06c2b1bf",
   "metadata": {},
   "outputs": [
    {
     "data": {
      "text/plain": [
       "3"
      ]
     },
     "execution_count": 1,
     "metadata": {},
     "output_type": "execute_result"
    }
   ],
   "source": [
    "def addition(param1,param2):\n",
    "    return param1 + param2\n",
    "\n",
    "addition(1,2)"
   ]
  },
  {
   "cell_type": "markdown",
   "id": "627a3cd3",
   "metadata": {},
   "source": [
    "4. What is the difference between a function and a function call?\n",
    "\n",
    "ans- A function is procedure to achieve a particular result.\n",
    "     \n",
    "   The programme to execute enters the function by a function call, which        evaluates to the function's return value."
   ]
  },
  {
   "cell_type": "markdown",
   "id": "8dff5a88",
   "metadata": {},
   "source": [
    "5. How many global scopes are there in a Python program? How many local scopes?\n",
    "\n",
    "ans- Per programme execution, only one global Python scope is allowed. A          local scope is formed each time a function is called, and this scope          exists until the program terminates"
   ]
  },
  {
   "cell_type": "markdown",
   "id": "630d3a41",
   "metadata": {},
   "source": [
    "6. What happens to variables in a local scope when the function call returns?\n",
    "\n",
    "ans- When a function returns, the local scope is destroyed, and all the            variables in it are forgotten."
   ]
  },
  {
   "cell_type": "markdown",
   "id": "096221e2",
   "metadata": {},
   "source": [
    "7. What is the concept of a return value? Is it possible to have a return value in an expression?\n",
    "\n",
    "ans- A return value is the value that a function call evaluates to. Like any      value, a return value can be used as part of an expression."
   ]
  },
  {
   "cell_type": "markdown",
   "id": "c510b46a",
   "metadata": {},
   "source": [
    "8. If a function does not have a return statement, what is the return value of a call to that function?\n",
    "\n",
    "ans- If there is no return statement for a function, its return value is None"
   ]
  },
  {
   "cell_type": "markdown",
   "id": "fb51f2a5",
   "metadata": {},
   "source": [
    "9. How do you make a function variable refer to the global variable?\n",
    "\n",
    "ans- To make function variable as a global variable you can use the global        keyword to declare which variables are global."
   ]
  },
  {
   "cell_type": "markdown",
   "id": "43bfa588",
   "metadata": {},
   "source": [
    "Q10. What is the data type of None?\n",
    "\n",
    "ans- NoneType."
   ]
  },
  {
   "cell_type": "markdown",
   "id": "f481228c",
   "metadata": {},
   "source": [
    "11. What does the sentence import areallyourpetsnamederic do?\n",
    "\n",
    "ans- That import statement imports a module named areallyourpetsnamederic."
   ]
  },
  {
   "cell_type": "markdown",
   "id": "3f06c46c",
   "metadata": {},
   "source": [
    "12. If you had a bacon() feature in a spam module, what would you call it after importing spam?\n",
    "\n",
    "ans- spam.bacon()"
   ]
  },
  {
   "cell_type": "markdown",
   "id": "e61e8253",
   "metadata": {},
   "source": [
    "Q13. What can you do to save a programme from crashing if it encounters an error?\n",
    "\n",
    "ans- Try and Except clause is used to handle the errors within our code."
   ]
  },
  {
   "cell_type": "markdown",
   "id": "1cdf42d1",
   "metadata": {},
   "source": [
    "14. What is the purpose of the try clause? What is the purpose of the except clause?\n",
    "\n",
    "ans- The try clause is used to check some code for errors and executes when        no error is found in the program. \n",
    "     Except clause will executes whenever the program encounters some error        in the try block."
   ]
  },
  {
   "cell_type": "code",
   "execution_count": 7,
   "id": "46992174",
   "metadata": {},
   "outputs": [
    {
     "name": "stdout",
     "output_type": "stream",
     "text": [
      "an error occured in your code --  division by zero\n"
     ]
    }
   ],
   "source": [
    "def division(a,b):\n",
    "    try:\n",
    "        c = a/b\n",
    "        return c\n",
    "    except Exception as e:\n",
    "        print(\"an error occured in your code -- \",e)\n",
    "        \n",
    "division(1,0)"
   ]
  },
  {
   "cell_type": "code",
   "execution_count": null,
   "id": "93340d9b",
   "metadata": {},
   "outputs": [],
   "source": []
  }
 ],
 "metadata": {
  "kernelspec": {
   "display_name": "Python 3 (ipykernel)",
   "language": "python",
   "name": "python3"
  },
  "language_info": {
   "codemirror_mode": {
    "name": "ipython",
    "version": 3
   },
   "file_extension": ".py",
   "mimetype": "text/x-python",
   "name": "python",
   "nbconvert_exporter": "python",
   "pygments_lexer": "ipython3",
   "version": "3.9.12"
  }
 },
 "nbformat": 4,
 "nbformat_minor": 5
}
